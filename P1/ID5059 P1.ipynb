{
 "cells": [
  {
   "cell_type": "markdown",
   "metadata": {},
   "source": [
    "                                               ID 5059 P1\n",
    "                                                200024763\n",
    "                                                2021.3.7\n",
    "                                                \n",
    "\n",
    "## Introduction\n",
    "This is about ID5059 Practical 1. Following is an explination of the process.\n",
    "## Frame the problem\n",
    "This is a regression problem and plain batch learning should be fine, which is using estate type, property type and property location to predict the price of the property;\n",
    "## Get the data and expolre the data "
   ]
  },
  {
   "cell_type": "code",
   "execution_count": 1,
   "metadata": {},
   "outputs": [
    {
     "name": "stdout",
     "output_type": "stream",
     "text": [
      "<class 'pandas.core.frame.DataFrame'>\n",
      "RangeIndex: 25836876 entries, 0 to 25836875\n",
      "Data columns (total 16 columns):\n",
      " #   Column         Dtype \n",
      "---  ------         ----- \n",
      " 0   1              object\n",
      " 1   price          int64 \n",
      " 2   3              object\n",
      " 3   4              object\n",
      " 4   property type  object\n",
      " 5   6              object\n",
      " 6   estate type    object\n",
      " 7   8              object\n",
      " 8   9              object\n",
      " 9   10             object\n",
      " 10  11             object\n",
      " 11  location       object\n",
      " 12  13             object\n",
      " 13  14             object\n",
      " 14  15             object\n",
      " 15  16             object\n",
      "dtypes: int64(1), object(15)\n",
      "memory usage: 3.1+ GB\n"
     ]
    }
   ],
   "source": [
    "#The data used at present is ppsplit-ac.csv because the 4GB data is too large to fit the memory of my laptop; I tried it at first\n",
    "#then I borrowed a better computer to run the whole file. #1. Import libraries;\n",
    "import pandas as pd\n",
    "import numpy as np\n",
    "import matplotlib.pyplot as plt\n",
    " \n",
    "#2. Read csv file;\n",
    "data_path = r\"C:\\Users\\Ang Li\\Desktop\\pp-complete.csv\"\n",
    "\n",
    "    # add headers to columns\n",
    "data_ac = pd.read_csv(data_path, names=[\"1\",\"price\",\"3\",\"4\",\"property type\",\"6\",\"estate type\",\"8\",\"9\",\"10\",\"11\",\"location\",\"13\",\"14\",\"15\",\"16\"])\n",
    "\n",
    "    # TEST: print(data_ac.columns)\n",
    "\n",
    "#3. By using .info() to present data and observe it;\n",
    "    #observation: \n",
    "        #from the information table, we can tell that columns 2, 5, 7, 9 are saturated. \n",
    "data_ac.info()"
   ]
  },
  {
   "cell_type": "code",
   "execution_count": 2,
   "metadata": {},
   "outputs": [
    {
     "data": {
      "image/png": "[encoded data removed]",
      "text/plain": [
       "<Figure size 432x288 with 1 Axes>"
      ]
     },
     "metadata": {
      "needs_background": "light"
     },
     "output_type": "display_data"
    }
   ],
   "source": [
    "#4. Stratified sampling - I divide the columns according to the plot, \n",
    "#which means most of the price is under 20000 so I slice up it;\n",
    "\n",
    "data_ac[\"price_cat\"] = pd.cut(data_ac[\"price\"], bins = [0, 70000, 110000, 190000, 250000, np.inf], labels = [1,2,3,4,5])\n",
    "    #TEST: data_ac[\"price_cat\"].value_counts()\n",
    "    \n",
    "    #TEST: \n",
    "data_ac[\"price_cat\"].hist()\n",
    "    #TEST: \n",
    "plt.show()\n",
    "\n",
    "from sklearn.model_selection import StratifiedShuffleSplit\n",
    "ac_new = StratifiedShuffleSplit(\n",
    "    n_splits = 1, \n",
    "    test_size = 0.4, \n",
    "    random_state = 314)\n",
    "\n",
    "for train_index, test_index in ac_new.split(data_ac, data_ac[\"price_cat\"]):\n",
    "    strat_test_set = data_ac.loc[test_index]\n",
    "    strat_train_set = data_ac.loc[train_index]\n",
    "\n",
    "strat_test_set.drop(['price_cat'],axis=1, inplace = True)    \n",
    "strat_train_set.drop(['price_cat'],axis=1, inplace = True)\n",
    "\n",
    "    #copy a strat_train_set and set labels\n",
    "data_ac = strat_train_set.copy()\n",
    "data_ac_labels = data_ac[\"price\"].copy()\n",
    "data_ac.drop(\"price\", axis = 1, inplace = True)"
   ]
  },
  {
   "cell_type": "markdown",
   "metadata": {},
   "source": [
    "## Prepare the data"
   ]
  },
  {
   "cell_type": "code",
   "execution_count": 3,
   "metadata": {
    "scrolled": true
   },
   "outputs": [],
   "source": [
    "#1.data cleaning: I chose to drop irrelevant columns instead of fill null values with median values.\n",
    "    #Becasue there is no need to fulfill values, calculate columns or scaling multiple columns.\n",
    "    #So I did not chose to custom a transformer.\n",
    "data_ac.drop([\"1\",\"3\",\"4\",\"6\",\"8\",\"9\",\"10\",\"11\",\"13\",\"14\",\"15\",\"16\"], axis =1, inplace = True)\n",
    "    # TEST: data_ac\n",
    "    \n",
    "    \n",
    "#2.pipline\n",
    "from sklearn.compose import ColumnTransformer\n",
    "from sklearn.preprocessing import OneHotEncoder\n",
    "\n",
    "attributes = ['property type','estate type','location']\n",
    "\n",
    "cat_pipeline = ColumnTransformer([\n",
    "    ('1hot', OneHotEncoder(),attributes),\n",
    "])\n",
    "\n",
    "\n",
    "# Because of the volum of the data set is too big, \n",
    "# I change the values in location not equal to \"LONDON\" to \"NOT LONDON\", which turns it into a catogary data type. \n",
    "\n",
    "data_ac.loc[(data_ac.location != 'LONDON'),'location']='NOT LONDON'\n",
    "\n",
    "    #Test: data_ac\n",
    "    #TEST: data_ac[\"property type\"].value_counts()\n",
    "    #TEST: data_ac[\"estate type\"].value_counts()\n",
    "    #TEST: data_ac[\"location\"].value_counts()\n",
    "\n",
    "data_prepared = cat_pipeline.fit_transform(data_ac)\n",
    "\n",
    "# following is code when I have not using a pipline and transform every attribute seperately: \n",
    "    #cat_encoder = OneHotEncoder()\n",
    "    #property_cat = data_ac[[\"property type\"]]\n",
    "    #property_cat_1hot = cat_encoder.fit_transform(property_cat)\n",
    "\n",
    "    #estate_cat = data_ac[[\"estate type\"]]\n",
    "    #estate_cat_1hot = cat_encoder.fit_transform(estate_cat)\n",
    "\n",
    "    #location_cat = data_ac[[\"location\"]]\n",
    "    #location_cat_1hot = cat_encoder.fit_transform(location_cat)\n",
    "\n",
    "    #TEST: data_ac\n",
    "    #TEST: location_cat_1hot"
   ]
  },
  {
   "cell_type": "markdown",
   "metadata": {},
   "source": [
    "\n",
    "## Explore Models "
   ]
  },
  {
   "cell_type": "code",
   "execution_count": 4,
   "metadata": {},
   "outputs": [
    {
     "data": {
      "text/plain": [
       "750586.0"
      ]
     },
     "execution_count": 4,
     "metadata": {},
     "output_type": "execute_result"
    }
   ],
   "source": [
    "#1. train a DecisionTreeRegressor\n",
    "from sklearn.tree import DecisionTreeRegressor\n",
    "\n",
    "tree_reg = DecisionTreeRegressor(random_state = 42)\n",
    "tree_reg.fit(data_prepared, data_ac_labels)\n",
    "\n",
    "    #TEST: some_data = data_ac.iloc[:5]\n",
    "    #TEST: some_labels = data_ac_labels.iloc[:5]\n",
    "    #TEST: some_data_prepared = cat_pipeline.transform(some_data)\n",
    "    #TEST: print(\"Prindictions:\\t\", tree_reg.predict(some_data_prepared))\n",
    "    #TEST: print(\"Lables:\\t\\t\", list(some_labels))\n",
    "    \n",
    "#2. using rmse, mean and R^2 to evaluate\n",
    "from sklearn.metrics import mean_squared_error\n",
    "data_predictions = tree_reg.predict(data_prepared)\n",
    "tree_mse = mean_squared_error(data_ac_labels, data_predictions)\n",
    "tree_rmse = np.sqrt(tree_mse)\n",
    "np.round(tree_rmse)"
   ]
  },
  {
   "cell_type": "code",
   "execution_count": 5,
   "metadata": {},
   "outputs": [
    {
     "data": {
      "text/plain": [
       "0.051991185593590505"
      ]
     },
     "execution_count": 5,
     "metadata": {},
     "output_type": "execute_result"
    }
   ],
   "source": [
    "from sklearn.metrics import r2_score\n",
    "r2_score(data_ac_labels, data_predictions)"
   ]
  },
  {
   "cell_type": "code",
   "execution_count": 6,
   "metadata": {},
   "outputs": [
    {
     "name": "stdout",
     "output_type": "stream",
     "text": [
      "scores: [672793. 655695. 659181. 795730. 764808. 841720. 720563. 686428. 845694.\n",
      " 828162.]\n",
      "mean: 747078.0\n",
      "standard deviation: 73426.55949822486\n"
     ]
    }
   ],
   "source": [
    "#3. Cross-Validation\n",
    "from sklearn.model_selection import cross_val_score\n",
    "k = 10\n",
    "scores = cross_val_score(tree_reg, data_prepared, data_ac_labels,scoring=\"neg_mean_squared_error\", cv = k)\n",
    "rmse_scores = np.sqrt(-scores)\n",
    "\n",
    "def display_scores(scores):\n",
    "    print(\"scores:\",np.round(scores))\n",
    "    print(\"mean:\",np.round(scores.mean()))\n",
    "    print(\"standard deviation:\",scores.std())\n",
    "\n",
    "display_scores(rmse_scores)"
   ]
  },
  {
   "cell_type": "markdown",
   "metadata": {},
   "source": [
    "## Fine-tune models and running on the test set\n",
    "\n",
    "The part to find a better modle is omitted as required. Following is evaluation on test set. "
   ]
  },
  {
   "cell_type": "code",
   "execution_count": 7,
   "metadata": {},
   "outputs": [],
   "source": [
    "#1. data preparetion\n",
    "x_test = strat_test_set.drop(\"price\", axis = 1)\n",
    "y_test = strat_test_set[\"price\"].copy()\n",
    "\n",
    "x_test.drop([\"1\",\"3\",\"4\",\"6\",\"8\",\"9\",\"10\",\"11\",\"13\",\"14\",\"15\",\"16\"], axis =1, inplace = True)\n",
    "\n",
    "x_test.loc[(x_test.location != 'LONDON'),'location']='NOT LONDON'\n",
    "\n",
    "x_test_prepared = cat_pipeline.transform(x_test)"
   ]
  },
  {
   "cell_type": "code",
   "execution_count": 8,
   "metadata": {
    "scrolled": true
   },
   "outputs": [],
   "source": [
    "# TEST: x_test[\"estate type\"].value_counts()"
   ]
  },
  {
   "cell_type": "code",
   "execution_count": 9,
   "metadata": {},
   "outputs": [
    {
     "data": {
      "text/plain": [
       "782874.0"
      ]
     },
     "execution_count": 9,
     "metadata": {},
     "output_type": "execute_result"
    }
   ],
   "source": [
    "# modeling\n",
    "from sklearn.tree import DecisionTreeRegressor\n",
    "\n",
    "tree_reg = DecisionTreeRegressor(random_state = 42)\n",
    "tree_reg.fit(x_test_prepared, y_test)\n",
    "\n",
    "#rmse evaluation\n",
    "from sklearn.metrics import mean_squared_error\n",
    "x_test_predictions = tree_reg.predict(x_test_prepared)\n",
    "final_mse = mean_squared_error(y_test, x_test_predictions)\n",
    "final_rmse = np.sqrt(final_mse)\n",
    "np.round(final_rmse)"
   ]
  },
  {
   "cell_type": "code",
   "execution_count": 10,
   "metadata": {},
   "outputs": [
    {
     "data": {
      "text/plain": [
       "0.894338736789097"
      ]
     },
     "execution_count": 10,
     "metadata": {},
     "output_type": "execute_result"
    }
   ],
   "source": [
    "#RMSFE evaluation\n",
    "SE = (x_test_predictions - y_test)\n",
    "SFE = SE.divide(y_test**2)\n",
    "MSFE = SFE.mean()\n",
    "RMSFE = np.sqrt(MSFE)\n",
    "RMSFE"
   ]
  },
  {
   "cell_type": "code",
   "execution_count": 11,
   "metadata": {},
   "outputs": [
    {
     "data": {
      "image/png": "[encoded data removed]",
      "text/plain": [
       "<Figure size 576x576 with 1 Axes>"
      ]
     },
     "metadata": {
      "needs_background": "light"
     },
     "output_type": "display_data"
    }
   ],
   "source": [
    "#residuals plot - which is little weird\n",
    "FEN = np.abs(x_test_predictions - y_test)\n",
    "FED = np.abs(y_test)\n",
    "FE = FEN.divide(FED)\n",
    "logbins = np.logspace(-3,1,3,100)\n",
    "ax = FE.hist(bins = logbins,figsize = (8,8))\n",
    "ax.set_xscale('log')\n",
    "ax.set_yscale('log')\n",
    "plt.xlabel(\"|fractional error|$ = |\\Delta y/y |$\",size = 20)\n",
    "plt.xticks(fontsize = 20)\n",
    "plt.ylabel(\"number of occurances\", size = 20)\n",
    "plt.yticks(fontsize = 20)\n",
    "plt.show()"
   ]
  },
  {
   "cell_type": "markdown",
   "metadata": {},
   "source": [
    "## Present solution\n",
    "The summary is write on a seperate pdf file. "
   ]
  },
  {
   "cell_type": "code",
   "execution_count": null,
   "metadata": {},
   "outputs": [],
   "source": []
  }
 ],
 "metadata": {
  "kernelspec": {
   "display_name": "Python 3",
   "language": "python",
   "name": "python3"
  },
  "language_info": {
   "codemirror_mode": {
    "name": "ipython",
    "version": 3
   },
   "file_extension": ".py",
   "mimetype": "text/x-python",
   "name": "python",
   "nbconvert_exporter": "python",
   "pygments_lexer": "ipython3",
   "version": "3.8.5"
  }
 },
 "nbformat": 4,
 "nbformat_minor": 4
}
